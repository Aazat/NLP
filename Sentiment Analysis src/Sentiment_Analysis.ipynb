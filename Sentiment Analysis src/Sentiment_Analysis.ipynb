{
  "nbformat": 4,
  "nbformat_minor": 0,
  "metadata": {
    "colab": {
      "name": "Sentiment Analysis.ipynb",
      "provenance": []
    },
    "kernelspec": {
      "name": "python3",
      "display_name": "Python 3"
    },
    "language_info": {
      "name": "python"
    },
    "accelerator": "GPU",
    "gpuClass": "standard"
  },
  "cells": [
    {
      "cell_type": "markdown",
      "source": [
        "#Imports"
      ],
      "metadata": {
        "id": "Pp0Ns0oR_-8G"
      }
    },
    {
      "cell_type": "code",
      "execution_count": 1,
      "metadata": {
        "id": "5t3vjOgM_k-I"
      },
      "outputs": [],
      "source": [
        "import tensorflow as tf\n",
        "from tensorflow import keras\n",
        "import numpy as np\n",
        "import os"
      ]
    },
    {
      "cell_type": "code",
      "source": [
        "import pathlib"
      ],
      "metadata": {
        "id": "07Ey1cEKBkde"
      },
      "execution_count": 2,
      "outputs": []
    },
    {
      "cell_type": "code",
      "source": [
        "import shutil"
      ],
      "metadata": {
        "id": "QPz1-Fk_DB9W"
      },
      "execution_count": 3,
      "outputs": []
    },
    {
      "cell_type": "markdown",
      "source": [
        "## Downloading data"
      ],
      "metadata": {
        "id": "nrO5HzlHAGwT"
      }
    },
    {
      "cell_type": "code",
      "source": [
        "url = \"https://ai.stanford.edu/%7Eamaas/data/sentiment/aclImdb_v1.tar.gz\"\n",
        "\n",
        "dataset = keras.utils.get_file(origin=url, untar=True,  cache_dir=\".\", cache_subdir=\"\")"
      ],
      "metadata": {
        "colab": {
          "base_uri": "https://localhost:8080/"
        },
        "id": "AqqUGrI3_9jR",
        "outputId": "12cb964e-c789-4616-bc72-c6ad756e83cc"
      },
      "execution_count": 4,
      "outputs": [
        {
          "output_type": "stream",
          "name": "stdout",
          "text": [
            "Downloading data from https://ai.stanford.edu/%7Eamaas/data/sentiment/aclImdb_v1.tar.gz\n",
            "84131840/84125825 [==============================] - 3s 0us/step\n",
            "84140032/84125825 [==============================] - 3s 0us/step\n"
          ]
        }
      ]
    },
    {
      "cell_type": "code",
      "source": [
        "dataset"
      ],
      "metadata": {
        "colab": {
          "base_uri": "https://localhost:8080/",
          "height": 35
        },
        "id": "CccYPLAvAoc7",
        "outputId": "675b854f-8cc2-4ef4-f723-2da193dd0b1b"
      },
      "execution_count": 5,
      "outputs": [
        {
          "output_type": "execute_result",
          "data": {
            "text/plain": [
              "'./aclImdb_v1'"
            ],
            "application/vnd.google.colaboratory.intrinsic+json": {
              "type": "string"
            }
          },
          "metadata": {},
          "execution_count": 5
        }
      ]
    },
    {
      "cell_type": "code",
      "source": [
        "dataset_dir= os.path.join(os.path.dirname(dataset), 'aclImdb')\n",
        "os.listdir(dataset_dir)"
      ],
      "metadata": {
        "colab": {
          "base_uri": "https://localhost:8080/"
        },
        "id": "Y_aztm5IBFgj",
        "outputId": "33a6dc32-2bfc-49c1-cfcc-ef3ae6ad1cc3"
      },
      "execution_count": 6,
      "outputs": [
        {
          "output_type": "execute_result",
          "data": {
            "text/plain": [
              "['test', 'train', 'imdbEr.txt', 'imdb.vocab', 'README']"
            ]
          },
          "metadata": {},
          "execution_count": 6
        }
      ]
    },
    {
      "cell_type": "code",
      "source": [
        "train_dir = os.path.join(dataset_dir, 'train')\n",
        "os.listdir(train_dir)"
      ],
      "metadata": {
        "colab": {
          "base_uri": "https://localhost:8080/"
        },
        "id": "SI928sfaCTbk",
        "outputId": "81c6850b-a666-40b9-fe4a-2465559108b0"
      },
      "execution_count": 7,
      "outputs": [
        {
          "output_type": "execute_result",
          "data": {
            "text/plain": [
              "['unsup',\n",
              " 'urls_unsup.txt',\n",
              " 'urls_pos.txt',\n",
              " 'urls_neg.txt',\n",
              " 'pos',\n",
              " 'labeledBow.feat',\n",
              " 'neg',\n",
              " 'unsupBow.feat']"
            ]
          },
          "metadata": {},
          "execution_count": 7
        }
      ]
    },
    {
      "cell_type": "code",
      "source": [
        "with open(os.path.join(train_dir, 'pos', '9338_8.txt'), 'rb') as file:\n",
        "  a = file.read()\n",
        "print(a)"
      ],
      "metadata": {
        "colab": {
          "base_uri": "https://localhost:8080/"
        },
        "id": "fEo9tVRDD1Mm",
        "outputId": "954d4096-c415-4a2b-f6a9-9b843cd502b9"
      },
      "execution_count": 8,
      "outputs": [
        {
          "output_type": "stream",
          "name": "stdout",
          "text": [
            "b\"True, the idea for this TV series may have sprung from the immense success which Ally McBeal is enjoying worldwide, even here in Germany. However, this said, Edel & Starck is very different from Ally McBeal in many ways.<br /><br />The two main characters work beautifully together. Felix Edel (Felix Noble), played by well-known German actor, Christoph M. Ohrt and Sandra Starck (Sandra Strong - Noble & Strong, get it ???), played by charming Rebecca Immanuel, exchange quick romantic repartees and continually spy on each other while engaging in sitcom-like criminal cases in Berlin and surroundings. Further, they are aided by a magnificent cast of co-stars, most notably their secretary, played by Isabel Tuengerthal, who is a rare gem with GREAT comic potential. Also the shady wheeler-dealer, Otto, and the noble childhood pal of Felix, Frank, work very well, not to forget Sandra's best friend and room-mate, Patricia, played by the beautiful Barbara Demmer.<br /><br />All-in-all a joy to watch on Monday nites: no wonder that the series and its stars have received several prizes. Will Felix get Sandra ?<br /><br />I hope that we will have to wait for many more episodes to find out......\"\n"
          ]
        }
      ]
    },
    {
      "cell_type": "code",
      "source": [
        "remove_dir = os.path.join(train_dir, 'unsup')\n",
        "shutil.rmtree(remove_dir)"
      ],
      "metadata": {
        "id": "43FLh2tKDuWK"
      },
      "execution_count": 9,
      "outputs": []
    },
    {
      "cell_type": "code",
      "source": [
        "os.listdir(train_dir)"
      ],
      "metadata": {
        "colab": {
          "base_uri": "https://localhost:8080/"
        },
        "id": "FyMZkHnjEz89",
        "outputId": "53eacc7c-c4e1-4dbc-f6ef-b845c8c88b7b"
      },
      "execution_count": 10,
      "outputs": [
        {
          "output_type": "execute_result",
          "data": {
            "text/plain": [
              "['urls_unsup.txt',\n",
              " 'urls_pos.txt',\n",
              " 'urls_neg.txt',\n",
              " 'pos',\n",
              " 'labeledBow.feat',\n",
              " 'neg',\n",
              " 'unsupBow.feat']"
            ]
          },
          "metadata": {},
          "execution_count": 10
        }
      ]
    },
    {
      "cell_type": "code",
      "source": [
        "batch_size = 1024\n",
        "seed = 123\n",
        "train_ds = keras.utils.text_dataset_from_directory(train_dir, validation_split=0.2, batch_size = batch_size, \n",
        "                                                   subset=\"training\", seed=seed)"
      ],
      "metadata": {
        "colab": {
          "base_uri": "https://localhost:8080/"
        },
        "id": "Sfvuw0IfFOk-",
        "outputId": "8f22931b-9380-4a1e-d98f-1c0ec7c152e7"
      },
      "execution_count": 11,
      "outputs": [
        {
          "output_type": "stream",
          "name": "stdout",
          "text": [
            "Found 25000 files belonging to 2 classes.\n",
            "Using 20000 files for training.\n"
          ]
        }
      ]
    },
    {
      "cell_type": "code",
      "source": [
        "val_ds = keras.utils.text_dataset_from_directory(train_dir, batch_size = batch_size, validation_split=0.2,\n",
        "                                                 subset=\"validation\", seed=seed)"
      ],
      "metadata": {
        "colab": {
          "base_uri": "https://localhost:8080/"
        },
        "id": "4CIZdAsgFsvN",
        "outputId": "41bb06be-4c98-41ce-aa04-b25d48a49dc3"
      },
      "execution_count": 12,
      "outputs": [
        {
          "output_type": "stream",
          "name": "stdout",
          "text": [
            "Found 25000 files belonging to 2 classes.\n",
            "Using 5000 files for validation.\n"
          ]
        }
      ]
    },
    {
      "cell_type": "code",
      "source": [
        "for comment, label in train_ds.take(1):\n",
        "  for i in range(10):\n",
        "    print(\"Comment : \" , comment.numpy()[i])\n",
        "    print(\"Label : \", label.numpy()[i] )"
      ],
      "metadata": {
        "colab": {
          "base_uri": "https://localhost:8080/"
        },
        "id": "Dj3oRoztF49d",
        "outputId": "ba84c88f-6f95-4720-a42a-30dacf09cc24"
      },
      "execution_count": 13,
      "outputs": [
        {
          "output_type": "stream",
          "name": "stdout",
          "text": [
            "Comment :  b\"Oh My God! Please, for the love of all that is holy, Do Not Watch This Movie! It it 82 minutes of my life I will never get back. Sure, I could have stopped watching half way through. But I thought it might get better. It Didn't. Anyone who actually enjoyed this movie is one seriously sick and twisted individual. No wonder us Australians/New Zealanders have a terrible reputation when it comes to making movies. Everything about this movie is horrible, from the acting to the editing. I don't even normally write reviews on here, but in this case I'll make an exception. I only wish someone had of warned me before I hired this catastrophe\"\n",
            "Label :  0\n",
            "Comment :  b'This movie is SOOOO funny!!! The acting is WONDERFUL, the Ramones are sexy, the jokes are subtle, and the plot is just what every high schooler dreams of doing to his/her school. I absolutely loved the soundtrack as well as the carefully placed cynicism. If you like monty python, You will love this film. This movie is a tad bit \"grease\"esk (without all the annoying songs). The songs that are sung are likable; you might even find yourself singing these songs once the movie is through. This musical ranks number two in musicals to me (second next to the blues brothers). But please, do not think of it as a musical per say; seeing as how the songs are so likable, it is hard to tell a carefully choreographed scene is taking place. I think of this movie as more of a comedy with undertones of romance. You will be reminded of what it was like to be a rebellious teenager; needless to say, you will be reminiscing of your old high school days after seeing this film. Highly recommended for both the family (since it is a very youthful but also for adults since there are many jokes that are funnier with age and experience.'\n",
            "Label :  1\n",
            "Comment :  b\"Alex D. Linz replaces Macaulay Culkin as the central figure in the third movie in the Home Alone empire. Four industrial spies acquire a missile guidance system computer chip and smuggle it through an airport inside a remote controlled toy car. Because of baggage confusion, grouchy Mrs. Hess (Marian Seldes) gets the car. She gives it to her neighbor, Alex (Linz), just before the spies turn up. The spies rent a house in order to burglarize each house in the neighborhood until they locate the car. Home alone with the chicken pox, Alex calls 911 each time he spots a theft in progress, but the spies always manage to elude the police while Alex is accused of making prank calls. The spies finally turn their attentions toward Alex, unaware that he has rigged devices to cleverly booby-trap his entire house. Home Alone 3 wasn't horrible, but probably shouldn't have been made, you can't just replace Macauley Culkin, Joe Pesci, or Daniel Stern. Home Alone 3 had some funny parts, but I don't like when characters are changed in a movie series, view at own risk.\"\n",
            "Label :  0\n",
            "Comment :  b\"There's a good movie lurking here, but this isn't it. The basic idea is good: to explore the moral issues that would face a group of young survivors of the apocalypse. But the logic is so muddled that it's impossible to get involved.<br /><br />For example, our four heroes are (understandably) paranoid about catching the mysterious airborne contagion that's wiped out virtually all of mankind. Yet they wear surgical masks some times, not others. Some times they're fanatical about wiping down with bleach any area touched by an infected person. Other times, they seem completely unconcerned.<br /><br />Worse, after apparently surviving some weeks or months in this new kill-or-be-killed world, these people constantly behave like total newbs. They don't bother accumulating proper equipment, or food. They're forever running out of fuel in the middle of nowhere. They don't take elementary precautions when meeting strangers. And after wading through the rotting corpses of the entire human race, they're as squeamish as sheltered debutantes. You have to constantly wonder how they could have survived this long... and even if they did, why anyone would want to make a movie about them.<br /><br />So when these dweebs stop to agonize over the moral dimensions of their actions, it's impossible to take their soul-searching seriously. Their actions would first have to make some kind of minimal sense.<br /><br />On top of all this, we must contend with the dubious acting abilities of Chris Pine. His portrayal of an arrogant young James T Kirk might have seemed shrewd, when viewed in isolation. But in Carriers he plays on exactly that same note: arrogant and boneheaded. It's impossible not to suspect that this constitutes his entire dramatic range.<br /><br />On the positive side, the film *looks* excellent. It's got an over-sharp, saturated look that really suits the southwestern US locale. But that can't save the truly feeble writing nor the paper-thin (and annoying) characters. Even if you're a fan of the end-of-the-world genre, you should save yourself the agony of watching Carriers.\"\n",
            "Label :  0\n",
            "Comment :  b'I saw this movie at an actual movie theater (probably the $2.00 one) with my cousin and uncle. We were around 11 and 12, I guess, and really into scary movies. I remember being so excited to see it because my cool uncle let us pick the movie (and we probably never got to do that again!) and sooo disappointed afterwards!! Just boring and not scary. The only redeeming thing I can remember was Corky Pigeon from Silver Spoons, and that wasn\\'t all that great, just someone I recognized. I\\'ve seen bad movies before and this one has always stuck out in my mind as the worst. This was from what I can recall, one of the most boring, non-scary, waste of our collective $6, and a waste of film. I have read some of the reviews that say it is worth a watch and I say, \"Too each his own\", but I wouldn\\'t even bother. Not even so bad it\\'s good.'\n",
            "Label :  0\n",
            "Comment :  b'In fact, Marc Blitzstein\\'s off-Broadway adaptation of \"Threepenny\" was not so \"bowdlerised\" as is generally believed.<br /><br />(I have a special interest in \"Threepenny\"; my dad was part of the first full production in the US; U of Illlinois Theatre Guild did it around the end of WW2. HJitler had been so nearly successful in suppressing the play that they had to reconstruct the script and score from recordings in two different languages {neither English}, a German prompter\\'s script and similar sources.) Blitzstein\\'s adaptation -- not a \"translation\" -- which had the full approval of Lotte Lenya -- was a lot closer to the original than generally believed.<br /><br />The problem is that the version thereof that most people know is the MGM cast recording (recently available on Polygram on CD)(which includes Beatrice Arthur {as Lucy, the \"big complete girl\", and can\\'t i see her hands on hips and shoulders thrown back on that line -- Bea was a major babe in the 50\\'s}, Paul Dooley and John Astin) was heavily censored by Mike Curb, head of MGM Records -- i mean, 17 (i think it was) \"Goddamn\"s got cut to just \"damn\".<br /><br />(At one time, MGM also offered a 2-LP set of the *entire* play, doubtless as heavily censored.)'\n",
            "Label :  0\n",
            "Comment :  b'This movie must be in line for the most boring movie in years. Not even woody Harrison can save this movie from sinking to the bottom.<br /><br />The murder in this movie are supposed to be the point of interest in this movie but is not, nothing is of any interest. The cast are not to bad but the script are just plain awful , I just sat in utter amazement during this movie, thinking how on earth can anyone find this movie entertaining <br /><br />The producers of this movie were very clever. They made a boring movie but hid it well with the names of good actors and actresses on their cast. People will go to the blockbuster and probably see this movie and think, Woody Harrison ,Kristin Scott Thomas and Willem Dafoe this must be good and rent this movie.(boy are they in for a horrible time)<br /><br />If you like getting ripped off go and rent this movie, some people actually did enjoyed this movie but I like to watch a movie with meaning'\n",
            "Label :  0\n",
            "Comment :  b'I stopped short of giving \"Mr. Blandings Builds His Dream House\" 10/10 due to an aspect that makes us in the 21st century cringe a little bit: the fact that a black person is the faithful servant (somewhat reminiscent of Stepin Fetchit). But other than that, the movie\\'s a hoot. Portraying middle class New York couple Jim (Cary Grant) and Muriel Blandings (Myrna Loy) trying to build a house in Connecticut, this flick has something for everyone.<br /><br />Grant is his usual flippant self, while Loy does quite well as merely a wife. But Melvyn Douglas adds some real laughs as Jim\\'s and Muriel\\'s lawyer Bill Cole, who seems to have more plans than he\\'s making clear. As for the house itself...throughout most of the movie, you\\'ll probably feel ambiguous as to whether or not you want to live there. The builders, contractors, and others also provide their fair share of laughs.<br /><br />All in all, a comedy classic. Also starring Louise Beavers, Reginald Denny, Sharyn Moffett, Connie Marshall and Jason Robards Sr.'\n",
            "Label :  1\n",
            "Comment :  b'I couldn\\'t wait to receive the DVD after hearing so much about the film. What a disappointment! This became one of the most confusing films I\\'ve ever viewed. There were so many characters introduced, some resembling others, that it became impossible to follow the story line. I could not understand how George Clooney received an acting award for the film since he was hardly involved, at least in the first half of the movie. My wife and I gave up after about an hour of misery and stopped the DVD. I might have considered fast forwarding to see if the ending was any better but after so much confusion decided that chances for improvement were slim. A co-worker told me that a lot of the movie \"comes together\" in the last minute or less. I was glad I didn\\'t waste another hour, waiting. I gave the DVD away the following day.'\n",
            "Label :  0\n",
            "Comment :  b'Okay, as a long time Disney fan, I really -hate- direct-to-video Disney sequels. Walt HIMSELF didn\\'t believe in them. He believed in \"AND THEY LIVED HAPPILY EVER AFTER\" being the end of it. But this one...REALLY ticked the taco. There were so many ripoffs of other Disney films in this, it wasn\\'t funny. Quick summary, if you don\\'t already know...: Melody, the daughter of Ariel and Prince Eric, is born. Ursula\\'s sister, Morganna (who basically looks like Ursula, if she were to dye herself green and go on the Ally Macbeal starvation diet) shows up and, after trying to do the newborn tyke in, and failing, prophesizes doom for the characters. After that ordeal, Ariel goes into a lapse of being like her father, and refuses to tell Melody about her mermaid heritage, and later on, forbids her to go near the sea. Well surprise surprise. Melody finds out, being the stubborn brat she is, and runs away, then makes a deal with Morgana to become a mermaid, in exchange for something. (Gee does THAT sound familiar?) She becomes one, but in her half of the bargain, has to retrieve her granddaddy\\'s Trident and bring it back to the sea witch. While doing THIS, she runs into a couple of outcast animals, a penguin and a walrus named Timon and Pumb--huh? wait...no! that\\'s not Timon and Pumbaa! or is it? Could of fooled me. Anyway, i\\'d like to reveal more, but pretty much anything that could be guessed to happen does. OK so...long story short. This movie \"borrows\" too much from other (better) Disney films...and does it horribly. Come on...Tip and Dash? Why not just make Dash obscenely flatulent and make it an even more obvious ripoff! Ugh. Not to mention, the total character butchery of Ariel\\'s persona. She\\'s gone from being a freespirited, headstrong woman, to a clone of her father. Not good at all...they\\'re basically telling us the sweet, firey little mermaid we\\'ve known to grow and love is dead. Plus Melody herself isn\\'t such a great character either...she\\'s damned annoying! And bratty! Not to mention what they\\'ve done to Flounder. Ugh...anyway if you decide to see this piece of created-mainly-for-profit-reasons, no-imagination, Eisner-sponsored c******t, I suggest maybe waiting \\'till its on the Disney channel or some other tv station. Because, it\\'s not even worth the price of a rental.<br /><br /> * out of ***** stars.'\n",
            "Label :  0\n"
          ]
        }
      ]
    },
    {
      "cell_type": "markdown",
      "source": [
        "## Seems like Label - 0 is Negative and Label - 1 is Positive"
      ],
      "metadata": {
        "id": "1PJXEPePGh69"
      }
    },
    {
      "cell_type": "code",
      "source": [
        "for i,label in enumerate(train_ds.class_names):\n",
        "  print(f\"Label : {i} corresponds to {label}\")"
      ],
      "metadata": {
        "colab": {
          "base_uri": "https://localhost:8080/"
        },
        "id": "kBzvFDUeGVLC",
        "outputId": "3f4dcd85-8f01-4012-8247-cdba017fc2c6"
      },
      "execution_count": 14,
      "outputs": [
        {
          "output_type": "stream",
          "name": "stdout",
          "text": [
            "Label : 0 corresponds to neg\n",
            "Label : 1 corresponds to pos\n"
          ]
        }
      ]
    },
    {
      "cell_type": "markdown",
      "source": [
        "# Tuning dataset for performance"
      ],
      "metadata": {
        "id": "WFqK8WP6HtP8"
      }
    },
    {
      "cell_type": "code",
      "source": [
        "AUTOTUNE = tf.data.AUTOTUNE\n",
        "\n",
        "train_ds = train_ds.cache().prefetch(buffer_size=AUTOTUNE)\n",
        "val_ds = val_ds.cache().prefetch(buffer_size=AUTOTUNE)\n"
      ],
      "metadata": {
        "id": "3V4I-SzTHBGa"
      },
      "execution_count": 15,
      "outputs": []
    },
    {
      "cell_type": "markdown",
      "source": [
        "# EMBEDDING LAYER"
      ],
      "metadata": {
        "id": "db-VYohVICvJ"
      }
    },
    {
      "cell_type": "code",
      "source": [
        "embedding_layer = keras.layers.Embedding(1000, 5)"
      ],
      "metadata": {
        "id": "41K3iwyXHsow"
      },
      "execution_count": 21,
      "outputs": []
    },
    {
      "cell_type": "code",
      "source": [
        "embedding_layer(np.array([1,2,3,4]))"
      ],
      "metadata": {
        "colab": {
          "base_uri": "https://localhost:8080/"
        },
        "id": "OQHb7MgzK2GJ",
        "outputId": "db4f8433-90a0-4846-d992-9082b1c931ac"
      },
      "execution_count": 23,
      "outputs": [
        {
          "output_type": "execute_result",
          "data": {
            "text/plain": [
              "<tf.Tensor: shape=(4, 5), dtype=float32, numpy=\n",
              "array([[ 0.03074603,  0.01978328, -0.0233382 ,  0.01250514, -0.02177349],\n",
              "       [ 0.04578285, -0.01539839, -0.04099145, -0.03673918,  0.03715948],\n",
              "       [ 0.02414978, -0.04074417,  0.02730191, -0.03456154, -0.01447765],\n",
              "       [-0.03143275,  0.04047566, -0.04486752, -0.03880528,  0.03702681]],\n",
              "      dtype=float32)>"
            ]
          },
          "metadata": {},
          "execution_count": 23
        }
      ]
    },
    {
      "cell_type": "markdown",
      "source": [
        "# Text vectorization"
      ],
      "metadata": {
        "id": "KdqbR98jmxFV"
      }
    },
    {
      "cell_type": "code",
      "source": [
        "max_tokens = 1000\n",
        "vectorize_layer = keras.layers.TextVectorization(max_tokens= max_tokens)"
      ],
      "metadata": {
        "id": "Bx13LQEeK_nZ"
      },
      "execution_count": 24,
      "outputs": []
    },
    {
      "cell_type": "code",
      "source": [
        "train_X = train_ds.map(lambda x, y :  x)"
      ],
      "metadata": {
        "id": "whvlS48lnqc3"
      },
      "execution_count": 26,
      "outputs": []
    },
    {
      "cell_type": "code",
      "source": [
        "train_X_batch = next(iter(train_X))\n",
        "sample = train_X_batch[0]\n",
        "print(sample)"
      ],
      "metadata": {
        "colab": {
          "base_uri": "https://localhost:8080/"
        },
        "id": "kppGEw4tnzHj",
        "outputId": "f84e33bf-babc-4762-cb20-9df7d49e3bc1"
      },
      "execution_count": 28,
      "outputs": [
        {
          "output_type": "stream",
          "name": "stdout",
          "text": [
            "tf.Tensor(b\"Wow. Some movies just leave me speechless. This was undeniably one of those movies. When I left the theatre, not a single word came to my mouth. All I had was an incredible urge to slam my head against the theatre wall to help me forget about the last hour and a half. Unfortunately, it didn't work. Honestly, this movie has nothing to recommend. The humor was at the first grade level, at best, the acting was overly silly, and the plot was astronomically far-fetched. I hearby pledge never to see an other movie starring Chris Kattan or any other cast-member of SNL.\", shape=(), dtype=string)\n"
          ]
        }
      ]
    },
    {
      "cell_type": "code",
      "source": [
        "vectorize_layer.adapt(train_X)"
      ],
      "metadata": {
        "id": "AUC0IS1ln4hn"
      },
      "execution_count": 29,
      "outputs": []
    },
    {
      "cell_type": "code",
      "source": [
        "vectorize_layer(sample)"
      ],
      "metadata": {
        "colab": {
          "base_uri": "https://localhost:8080/"
        },
        "id": "iMB4vUofoHem",
        "outputId": "c68a1638-01cc-426e-9f86-388c212b2f33"
      },
      "execution_count": 30,
      "outputs": [
        {
          "output_type": "execute_result",
          "data": {
            "text/plain": [
              "<tf.Tensor: shape=(103,), dtype=int64, numpy=\n",
              "array([  1,  47,  93,  41, 547,  70,   1,  11,  14,   1,  29,   5, 144,\n",
              "        93,  51,  10, 307,   2,   1,  22,   4, 708, 704, 364,   6,  56,\n",
              "         1,  32,  10,  68,  14,  34,   1,   1,   6,   1,  56, 434, 424,\n",
              "         2,   1,   1,   6, 328,  70, 837,  43,   2, 227, 549,   3,   4,\n",
              "       352, 457,   9, 153, 163,   1,  11,  18,  44, 158,   6, 370,   2,\n",
              "       490,  14,  31,   2,  83,   1, 672,  31, 115,   2, 114,  14,   1,\n",
              "       720,   3,   2, 113,  14,   1,   1,  10,   1,   1, 110,   6,  66,\n",
              "        34,  82,  18,   1,   1,   1,  42,  98,  82,   1,   5,   1])>"
            ]
          },
          "metadata": {},
          "execution_count": 30
        }
      ]
    },
    {
      "cell_type": "code",
      "source": [
        "vectorize_layer.get_vocabulary()"
      ],
      "metadata": {
        "id": "eq4h_WPEoguG"
      },
      "execution_count": null,
      "outputs": []
    },
    {
      "cell_type": "code",
      "source": [
        "vocab_size = 1000 \n",
        "embedding_dim = 20\n",
        "model = keras.models.Sequential([\n",
        "                                 vectorize_layer,\n",
        "                                 keras.layers.Embedding(vocab_size, embedding_dim),\n",
        "                                 keras.layers.GlobalAveragePooling1D(),\n",
        "                                 keras.layers.Dense(16),\n",
        "                                 keras.layers.Dense(1)\n",
        "])\n"
      ],
      "metadata": {
        "id": "Z_EvroLXomJp"
      },
      "execution_count": 32,
      "outputs": []
    },
    {
      "cell_type": "code",
      "source": [
        "model.compile(optimizer=\"adam\",\n",
        "              loss=keras.losses.BinaryCrossentropy(from_logits=True),\n",
        "              metrics=['accuracy'])"
      ],
      "metadata": {
        "id": "Bu1Ag7pTrfyy"
      },
      "execution_count": 33,
      "outputs": []
    },
    {
      "cell_type": "code",
      "source": [
        "tensorboard_callback = keras.callbacks.TensorBoard(log_dir=\"logs\")"
      ],
      "metadata": {
        "id": "08GrXH39sHu3"
      },
      "execution_count": 36,
      "outputs": []
    },
    {
      "cell_type": "code",
      "source": [
        "model.fit(train_ds,\n",
        "                    validation_data = val_ds,\n",
        "                    epochs= 15,\n",
        "                    callbacks= [tensorboard_callback])"
      ],
      "metadata": {
        "colab": {
          "base_uri": "https://localhost:8080/"
        },
        "id": "I5HRvyUkrx68",
        "outputId": "2b631ace-b6b4-4908-c087-c7067e71a730"
      },
      "execution_count": 39,
      "outputs": [
        {
          "output_type": "stream",
          "name": "stdout",
          "text": [
            "Epoch 1/15\n",
            "20/20 [==============================] - 2s 103ms/step - loss: 0.5748 - accuracy: 0.6263 - val_loss: 0.5473 - val_accuracy: 0.6724\n",
            "Epoch 2/15\n",
            "20/20 [==============================] - 3s 143ms/step - loss: 0.5595 - accuracy: 0.6471 - val_loss: 0.5309 - val_accuracy: 0.6952\n",
            "Epoch 3/15\n",
            "20/20 [==============================] - 2s 119ms/step - loss: 0.5444 - accuracy: 0.6660 - val_loss: 0.5149 - val_accuracy: 0.7158\n",
            "Epoch 4/15\n",
            "20/20 [==============================] - 1s 75ms/step - loss: 0.5295 - accuracy: 0.6867 - val_loss: 0.4995 - val_accuracy: 0.7330\n",
            "Epoch 5/15\n",
            "20/20 [==============================] - 2s 88ms/step - loss: 0.5152 - accuracy: 0.7076 - val_loss: 0.4850 - val_accuracy: 0.7428\n",
            "Epoch 6/15\n",
            "20/20 [==============================] - 2s 84ms/step - loss: 0.5015 - accuracy: 0.7254 - val_loss: 0.4716 - val_accuracy: 0.7578\n",
            "Epoch 7/15\n",
            "20/20 [==============================] - 2s 84ms/step - loss: 0.4887 - accuracy: 0.7401 - val_loss: 0.4593 - val_accuracy: 0.7704\n",
            "Epoch 8/15\n",
            "20/20 [==============================] - 2s 124ms/step - loss: 0.4768 - accuracy: 0.7531 - val_loss: 0.4483 - val_accuracy: 0.7796\n",
            "Epoch 9/15\n",
            "20/20 [==============================] - 1s 74ms/step - loss: 0.4659 - accuracy: 0.7620 - val_loss: 0.4385 - val_accuracy: 0.7872\n",
            "Epoch 10/15\n",
            "20/20 [==============================] - 2s 81ms/step - loss: 0.4559 - accuracy: 0.7713 - val_loss: 0.4298 - val_accuracy: 0.7962\n",
            "Epoch 11/15\n",
            "20/20 [==============================] - 2s 79ms/step - loss: 0.4467 - accuracy: 0.7789 - val_loss: 0.4221 - val_accuracy: 0.8008\n",
            "Epoch 12/15\n",
            "20/20 [==============================] - 2s 87ms/step - loss: 0.4384 - accuracy: 0.7853 - val_loss: 0.4154 - val_accuracy: 0.8060\n",
            "Epoch 13/15\n",
            "20/20 [==============================] - 2s 107ms/step - loss: 0.4309 - accuracy: 0.7898 - val_loss: 0.4095 - val_accuracy: 0.8084\n",
            "Epoch 14/15\n",
            "20/20 [==============================] - 2s 82ms/step - loss: 0.4240 - accuracy: 0.7944 - val_loss: 0.4044 - val_accuracy: 0.8124\n",
            "Epoch 15/15\n",
            "20/20 [==============================] - 2s 73ms/step - loss: 0.4177 - accuracy: 0.7995 - val_loss: 0.3998 - val_accuracy: 0.8150\n"
          ]
        },
        {
          "output_type": "execute_result",
          "data": {
            "text/plain": [
              "<keras.callbacks.History at 0x7f049a40e710>"
            ]
          },
          "metadata": {},
          "execution_count": 39
        }
      ]
    },
    {
      "cell_type": "code",
      "source": [
        "%reload_ext tensorboard\n",
        "%load_ext tensorboard\n",
        "%tensorboard --logdir logs"
      ],
      "metadata": {
        "id": "JXqlQ9hlsdyW"
      },
      "execution_count": null,
      "outputs": []
    },
    {
      "cell_type": "markdown",
      "source": [
        "# Loading test_ds"
      ],
      "metadata": {
        "id": "ImzDkUUt3Zjz"
      }
    },
    {
      "cell_type": "code",
      "source": [
        "test_ds = keras.utils.text_dataset_from_directory('aclImdb/test', batch_size= batch_size)"
      ],
      "metadata": {
        "colab": {
          "base_uri": "https://localhost:8080/"
        },
        "id": "h_32sHnGs9gO",
        "outputId": "41833e96-42e9-49dd-f9fd-ba22ec94fbab"
      },
      "execution_count": 42,
      "outputs": [
        {
          "output_type": "stream",
          "name": "stdout",
          "text": [
            "Found 25000 files belonging to 2 classes.\n"
          ]
        }
      ]
    },
    {
      "cell_type": "markdown",
      "source": [
        "# Evaludating model on test_ds"
      ],
      "metadata": {
        "id": "6Bsy5_3H3Vp7"
      }
    },
    {
      "cell_type": "code",
      "source": [
        "loss, accuracy =model.evaluate(test_ds)"
      ],
      "metadata": {
        "colab": {
          "base_uri": "https://localhost:8080/"
        },
        "id": "wz5zQ5XLuiYI",
        "outputId": "9368d714-05c9-4c13-b1df-596bb6ea2f3b"
      },
      "execution_count": 43,
      "outputs": [
        {
          "output_type": "stream",
          "name": "stdout",
          "text": [
            "25/25 [==============================] - 8s 279ms/step - loss: 0.4147 - accuracy: 0.8031\n"
          ]
        }
      ]
    },
    {
      "cell_type": "code",
      "source": [
        "POS_Comment = \"It was such a fantastic movie, loved it\"\n",
        "NEG_Comment = \"Boring and time wasting, do not recommend\""
      ],
      "metadata": {
        "id": "u8o4jD7zuqoG"
      },
      "execution_count": 44,
      "outputs": []
    },
    {
      "cell_type": "code",
      "source": [
        "prediction = model.predict([POS_Comment, NEG_Comment])"
      ],
      "metadata": {
        "id": "PjdEKKH1vymW"
      },
      "execution_count": 49,
      "outputs": []
    },
    {
      "cell_type": "code",
      "source": [
        "tf.math.softmax(prediction)"
      ],
      "metadata": {
        "colab": {
          "base_uri": "https://localhost:8080/"
        },
        "id": "kIFEqAryv1BN",
        "outputId": "eaf3a91b-83b1-4e60-f5ce-b7745315db1b"
      },
      "execution_count": 50,
      "outputs": [
        {
          "output_type": "execute_result",
          "data": {
            "text/plain": [
              "<tf.Tensor: shape=(2, 1), dtype=float32, numpy=\n",
              "array([[1.],\n",
              "       [1.]], dtype=float32)>"
            ]
          },
          "metadata": {},
          "execution_count": 50
        }
      ]
    },
    {
      "cell_type": "code",
      "source": [
        "NEG_Comments = [\n",
        "                \"Terrible Movie, boring\",\n",
        "                \"Do not recommend\",\n",
        "                \"Disgusting and Time wasting\",\n",
        "                \"Not funny at all\",\n",
        "                \"Most bizzarre movie of all time\"\n",
        "]"
      ],
      "metadata": {
        "id": "fD4rTGOyw_eY"
      },
      "execution_count": 51,
      "outputs": []
    },
    {
      "cell_type": "code",
      "source": [
        "tf.math.softmax(model.predict(NEG_Comments))"
      ],
      "metadata": {
        "colab": {
          "base_uri": "https://localhost:8080/"
        },
        "id": "J6QGuCttxVvo",
        "outputId": "4cf0b8e2-1ed9-4862-e6a4-07c617ab94a0"
      },
      "execution_count": 52,
      "outputs": [
        {
          "output_type": "execute_result",
          "data": {
            "text/plain": [
              "<tf.Tensor: shape=(5, 1), dtype=float32, numpy=\n",
              "array([[1.],\n",
              "       [1.],\n",
              "       [1.],\n",
              "       [1.],\n",
              "       [1.]], dtype=float32)>"
            ]
          },
          "metadata": {},
          "execution_count": 52
        }
      ]
    },
    {
      "cell_type": "code",
      "source": [
        "model.predict(NEG_Comments)"
      ],
      "metadata": {
        "colab": {
          "base_uri": "https://localhost:8080/"
        },
        "id": "-nKFjD_uxcGa",
        "outputId": "436b4878-2bc0-4b16-a90b-039f9d01ba57"
      },
      "execution_count": 53,
      "outputs": [
        {
          "output_type": "execute_result",
          "data": {
            "text/plain": [
              "array([[-73.81365 ],\n",
              "       [ -2.609833],\n",
              "       [ 21.69761 ],\n",
              "       [-29.00036 ],\n",
              "       [ 27.09492 ]], dtype=float32)"
            ]
          },
          "metadata": {},
          "execution_count": 53
        }
      ]
    },
    {
      "cell_type": "code",
      "source": [
        "tf.round(tf.math.sigmoid(model.predict(NEG_Comments)))"
      ],
      "metadata": {
        "colab": {
          "base_uri": "https://localhost:8080/"
        },
        "id": "_gG3sgz7zecf",
        "outputId": "c5729a3c-3e30-4df2-9c6e-e9b52eb9a0f2"
      },
      "execution_count": 61,
      "outputs": [
        {
          "output_type": "execute_result",
          "data": {
            "text/plain": [
              "<tf.Tensor: shape=(5, 1), dtype=float32, numpy=\n",
              "array([[0.],\n",
              "       [0.],\n",
              "       [1.],\n",
              "       [0.],\n",
              "       [1.]], dtype=float32)>"
            ]
          },
          "metadata": {},
          "execution_count": 61
        }
      ]
    },
    {
      "cell_type": "markdown",
      "source": [
        "# Custom standardization"
      ],
      "metadata": {
        "id": "nIvxGsPR0SlT"
      }
    },
    {
      "cell_type": "code",
      "source": [
        "import re\n",
        "import string"
      ],
      "metadata": {
        "id": "WyMo8i1z0cm3"
      },
      "execution_count": 63,
      "outputs": []
    },
    {
      "cell_type": "code",
      "source": [
        "def custom_standardization(input_data):\n",
        "  lowercase = tf.strings.lower(input_data)\n",
        "  stripped_html = tf.strings.regex_replace(lowercase, '<br />', ' ')\n",
        "  return tf.strings.regex_replace(stripped_html,\n",
        "                                  '[%s]' % re.escape(string.punctuation),\n",
        "                                  '')\n"
      ],
      "metadata": {
        "id": "fGq0Vbubznpl"
      },
      "execution_count": 62,
      "outputs": []
    },
    {
      "cell_type": "markdown",
      "source": [
        "## Vectorization layer with custom standardization"
      ],
      "metadata": {
        "id": "uuAOrOt60V2e"
      }
    },
    {
      "cell_type": "code",
      "source": [
        "max_features = 10000\n",
        "sequence_length = 200\n",
        "vectorization_layer = keras.layers.TextVectorization(standardize= custom_standardization,\n",
        "                                                     max_tokens= max_features,\n",
        "                                                     output_mode = 'int',\n",
        "                                                     output_sequence_length= sequence_length\n",
        "                                                     )"
      ],
      "metadata": {
        "id": "0j-pElUg0Uzk"
      },
      "execution_count": 64,
      "outputs": []
    },
    {
      "cell_type": "code",
      "source": [
        "vectorization_layer.adapt(train_X)"
      ],
      "metadata": {
        "id": "Z2ocKzl41kyI"
      },
      "execution_count": 68,
      "outputs": []
    },
    {
      "cell_type": "code",
      "source": [
        "model = keras.models.Sequential([\n",
        "                                 vectorization_layer,\n",
        "                                 keras.layers.Embedding(vocab_size, embedding_dim, name=\"embedding\"),\n",
        "                                 keras.layers.GlobalAveragePooling1D(),\n",
        "                                 keras.layers.Dropout(0.2),\n",
        "                                 keras.layers.Dense(16),\n",
        "                                 keras.layers.Dense(1, activation='sigmoid')\n",
        "])"
      ],
      "metadata": {
        "id": "X6KhYLlN1zA8"
      },
      "execution_count": 74,
      "outputs": []
    },
    {
      "cell_type": "code",
      "source": [
        "model.compile(optimizer='adam',\n",
        "              loss = keras.losses.BinaryCrossentropy(from_logits=False),\n",
        "              metrics = ['accuracy'])"
      ],
      "metadata": {
        "id": "vIDjNy2q22kp"
      },
      "execution_count": 75,
      "outputs": []
    },
    {
      "cell_type": "code",
      "source": [
        "history = model.fit(train_ds,\n",
        "                    validation_data = val_ds,\n",
        "                    epochs = 20,\n",
        "                    )"
      ],
      "metadata": {
        "colab": {
          "base_uri": "https://localhost:8080/"
        },
        "id": "Z8VLCbcL2_9B",
        "outputId": "30f581d3-c171-49cb-be78-c82f44ff1800"
      },
      "execution_count": 76,
      "outputs": [
        {
          "output_type": "stream",
          "name": "stdout",
          "text": [
            "Epoch 1/20\n",
            "20/20 [==============================] - 4s 147ms/step - loss: 0.6923 - accuracy: 0.5592 - val_loss: 0.6910 - val_accuracy: 0.6652\n",
            "Epoch 2/20\n",
            "20/20 [==============================] - 1s 58ms/step - loss: 0.6891 - accuracy: 0.6568 - val_loss: 0.6867 - val_accuracy: 0.6624\n",
            "Epoch 3/20\n",
            "20/20 [==============================] - 2s 96ms/step - loss: 0.6832 - accuracy: 0.6719 - val_loss: 0.6785 - val_accuracy: 0.6788\n",
            "Epoch 4/20\n",
            "20/20 [==============================] - 1s 65ms/step - loss: 0.6729 - accuracy: 0.6896 - val_loss: 0.6655 - val_accuracy: 0.6910\n",
            "Epoch 5/20\n",
            "20/20 [==============================] - 2s 86ms/step - loss: 0.6572 - accuracy: 0.7020 - val_loss: 0.6470 - val_accuracy: 0.6998\n",
            "Epoch 6/20\n",
            "20/20 [==============================] - 1s 64ms/step - loss: 0.6362 - accuracy: 0.7168 - val_loss: 0.6241 - val_accuracy: 0.7110\n",
            "Epoch 7/20\n",
            "20/20 [==============================] - 2s 103ms/step - loss: 0.6111 - accuracy: 0.7303 - val_loss: 0.5982 - val_accuracy: 0.7286\n",
            "Epoch 8/20\n",
            "20/20 [==============================] - 1s 58ms/step - loss: 0.5841 - accuracy: 0.7452 - val_loss: 0.5714 - val_accuracy: 0.7446\n",
            "Epoch 9/20\n",
            "20/20 [==============================] - 2s 87ms/step - loss: 0.5558 - accuracy: 0.7610 - val_loss: 0.5450 - val_accuracy: 0.7598\n",
            "Epoch 10/20\n",
            "20/20 [==============================] - 3s 145ms/step - loss: 0.5292 - accuracy: 0.7744 - val_loss: 0.5205 - val_accuracy: 0.7754\n",
            "Epoch 11/20\n",
            "20/20 [==============================] - 2s 112ms/step - loss: 0.5037 - accuracy: 0.7873 - val_loss: 0.4988 - val_accuracy: 0.7830\n",
            "Epoch 12/20\n",
            "20/20 [==============================] - 1s 63ms/step - loss: 0.4809 - accuracy: 0.7975 - val_loss: 0.4804 - val_accuracy: 0.7904\n",
            "Epoch 13/20\n",
            "20/20 [==============================] - 1s 75ms/step - loss: 0.4623 - accuracy: 0.8048 - val_loss: 0.4656 - val_accuracy: 0.7956\n",
            "Epoch 14/20\n",
            "20/20 [==============================] - 1s 68ms/step - loss: 0.4468 - accuracy: 0.8105 - val_loss: 0.4533 - val_accuracy: 0.7974\n",
            "Epoch 15/20\n",
            "20/20 [==============================] - 1s 66ms/step - loss: 0.4343 - accuracy: 0.8156 - val_loss: 0.4433 - val_accuracy: 0.8018\n",
            "Epoch 16/20\n",
            "20/20 [==============================] - 1s 67ms/step - loss: 0.4235 - accuracy: 0.8193 - val_loss: 0.4350 - val_accuracy: 0.8074\n",
            "Epoch 17/20\n",
            "20/20 [==============================] - 3s 130ms/step - loss: 0.4142 - accuracy: 0.8220 - val_loss: 0.4282 - val_accuracy: 0.8112\n",
            "Epoch 18/20\n",
            "20/20 [==============================] - 1s 65ms/step - loss: 0.4062 - accuracy: 0.8255 - val_loss: 0.4224 - val_accuracy: 0.8144\n",
            "Epoch 19/20\n",
            "20/20 [==============================] - 2s 85ms/step - loss: 0.3993 - accuracy: 0.8278 - val_loss: 0.4172 - val_accuracy: 0.8164\n",
            "Epoch 20/20\n",
            "20/20 [==============================] - 2s 79ms/step - loss: 0.3934 - accuracy: 0.8313 - val_loss: 0.4129 - val_accuracy: 0.8176\n"
          ]
        }
      ]
    },
    {
      "cell_type": "markdown",
      "source": [
        "# Evaluation of updated model"
      ],
      "metadata": {
        "id": "J-piaIjB3fN1"
      }
    },
    {
      "cell_type": "code",
      "source": [
        "loss , accuracy = model.evaluate(test_ds)"
      ],
      "metadata": {
        "colab": {
          "base_uri": "https://localhost:8080/"
        },
        "id": "0a_S7wDt3QsV",
        "outputId": "3f214923-0a99-413e-a3b9-01c74dc325e5"
      },
      "execution_count": 77,
      "outputs": [
        {
          "output_type": "stream",
          "name": "stdout",
          "text": [
            "25/25 [==============================] - 9s 175ms/step - loss: 0.4080 - accuracy: 0.8184\n"
          ]
        }
      ]
    },
    {
      "cell_type": "markdown",
      "source": [
        "## Making inferences on real data"
      ],
      "metadata": {
        "id": "LN09FXEv3uQ-"
      }
    },
    {
      "cell_type": "code",
      "source": [
        "PositiveComments = [\"Loved it, big fan\", \"Totally Recommend\", \"This movie was so good i cried\", \"Hands down one of the best ever\"]\n",
        "NegativeComments = [\"Worst Movie ever\", \"Boring movie of all time\", \"Utter waste of time\", \"Disgusting piece of shit\"]"
      ],
      "metadata": {
        "id": "QsFrvx243lt3"
      },
      "execution_count": 78,
      "outputs": []
    },
    {
      "cell_type": "code",
      "source": [
        "PositvePredictions = (model.predict(PositiveComments))\n",
        "labels = [\"Positive\" if y > 0.5 else \"Negative\" for y in PositvePredictions]\n",
        "print(labels)"
      ],
      "metadata": {
        "colab": {
          "base_uri": "https://localhost:8080/"
        },
        "id": "u9ez4EC04HNG",
        "outputId": "d24d7776-6da7-4ba0-c3c6-5387059f64e9"
      },
      "execution_count": 85,
      "outputs": [
        {
          "output_type": "stream",
          "name": "stdout",
          "text": [
            "['Positive', 'Positive', 'Positive', 'Positive']\n"
          ]
        }
      ]
    },
    {
      "cell_type": "code",
      "source": [
        "def get_labels(predictions):\n",
        "  return [\"Positive\" if y > 0.5 else \"Negative\" for y in predictions]\n",
        "print(get_labels(model.predict(NegativeComments)))"
      ],
      "metadata": {
        "colab": {
          "base_uri": "https://localhost:8080/"
        },
        "id": "UxmVypc34NXB",
        "outputId": "f9dec18f-39db-43f4-ed28-81f37dddc82a"
      },
      "execution_count": 86,
      "outputs": [
        {
          "output_type": "stream",
          "name": "stdout",
          "text": [
            "['Negative', 'Negative', 'Negative', 'Positive']\n"
          ]
        }
      ]
    },
    {
      "cell_type": "code",
      "source": [
        "def labeled_predictions(input_text):\n",
        "  \"\"\"Takes list or 1d array of text input as argument\"\"\"\n",
        "  predictions = model.predict(input_text)\n",
        "  return [\"Positive\" if y > 0.5 else \"Negative\" for y in predictions]\n",
        "labeled_predictions(PositiveComments)"
      ],
      "metadata": {
        "colab": {
          "base_uri": "https://localhost:8080/"
        },
        "id": "o41X31pP4bWM",
        "outputId": "c412e0bf-a1ea-44b9-9c91-25574e17f1c5"
      },
      "execution_count": 87,
      "outputs": [
        {
          "output_type": "execute_result",
          "data": {
            "text/plain": [
              "['Positive', 'Positive', 'Positive', 'Positive']"
            ]
          },
          "metadata": {},
          "execution_count": 87
        }
      ]
    },
    {
      "cell_type": "code",
      "source": [
        "labeled_predictions(NegativeComments)"
      ],
      "metadata": {
        "colab": {
          "base_uri": "https://localhost:8080/"
        },
        "id": "nZ998JUp569d",
        "outputId": "30df273b-cb54-4390-ec04-fcaf1dd2a4ed"
      },
      "execution_count": 88,
      "outputs": [
        {
          "output_type": "execute_result",
          "data": {
            "text/plain": [
              "['Negative', 'Negative', 'Negative', 'Positive']"
            ]
          },
          "metadata": {},
          "execution_count": 88
        }
      ]
    },
    {
      "cell_type": "code",
      "source": [
        "model.save(\"Sentiment_analysis\")"
      ],
      "metadata": {
        "colab": {
          "base_uri": "https://localhost:8080/"
        },
        "id": "7dJJ93RI5-XE",
        "outputId": "0fda77c3-da3b-43b0-8080-2a13d410e893"
      },
      "execution_count": 89,
      "outputs": [
        {
          "output_type": "stream",
          "name": "stdout",
          "text": [
            "INFO:tensorflow:Assets written to: Sentiment_analysis/assets\n"
          ]
        }
      ]
    },
    {
      "cell_type": "code",
      "source": [
        "from google.colab import files"
      ],
      "metadata": {
        "id": "GsAIGkoQ6Spj"
      },
      "execution_count": 90,
      "outputs": []
    },
    {
      "cell_type": "code",
      "source": [
        "history.history.keys()"
      ],
      "metadata": {
        "colab": {
          "base_uri": "https://localhost:8080/"
        },
        "id": "XhK_lZ2H6bNQ",
        "outputId": "b119d6f9-9de5-4d3f-8536-c1fed3431ab1"
      },
      "execution_count": 93,
      "outputs": [
        {
          "output_type": "execute_result",
          "data": {
            "text/plain": [
              "dict_keys(['loss', 'accuracy', 'val_loss', 'val_accuracy'])"
            ]
          },
          "metadata": {},
          "execution_count": 93
        }
      ]
    },
    {
      "cell_type": "code",
      "source": [
        "import matplotlib.pyplot as plt"
      ],
      "metadata": {
        "id": "_0lK4x0W7I3z"
      },
      "execution_count": 94,
      "outputs": []
    },
    {
      "cell_type": "code",
      "source": [
        "loss = history.history['loss']\n",
        "accuracy = history.history['accuracy']\n",
        "epochs = range(1, len(loss)+ 1)\n",
        "\n",
        "val_loss = history.history['val_accuracy']\n",
        "val_accuracy= history.history['val_accuracy']\n",
        "\n",
        "fig, axes= plt.subplots(2, 1,figsize=(14,12))\n",
        "axes[0].plot(epochs, loss, label=\"loss\")\n",
        "axes[0].plot(epochs, accuracy, label=\"accuracy\")\n",
        "axes[0].legend()\n",
        "axes[1].plot(epochs, val_loss, label=\"validation_loss\")\n",
        "axes[1].plot(epochs, val_accuracy, label=\"validation_accuracy\")\n",
        "axes[1].legend()"
      ],
      "metadata": {
        "colab": {
          "base_uri": "https://localhost:8080/",
          "height": 717
        },
        "id": "Pqng-2lu63H-",
        "outputId": "89c15694-03fd-4cb8-d0b2-14b1ead9a1d9"
      },
      "execution_count": 100,
      "outputs": [
        {
          "output_type": "execute_result",
          "data": {
            "text/plain": [
              "<matplotlib.legend.Legend at 0x7f049c0d9a50>"
            ]
          },
          "metadata": {},
          "execution_count": 100
        },
        {
          "output_type": "display_data",
          "data": {
            "text/plain": [
              "<Figure size 1008x864 with 2 Axes>"
            ],
            "image/png": "[encoded data removed]"
          },
          "metadata": {
            "needs_background": "light"
          }
        }
      ]
    },
    {
      "cell_type": "code",
      "source": [
        "files.download(\"/content/Sentiment_analysis\")"
      ],
      "metadata": {
        "colab": {
          "base_uri": "https://localhost:8080/",
          "height": 166
        },
        "id": "p7M6ikLa8xfY",
        "outputId": "01ef1e30-5713-404f-d954-b76dddaa3e23"
      },
      "execution_count": 1,
      "outputs": [
        {
          "output_type": "error",
          "ename": "NameError",
          "evalue": "ignored",
          "traceback": [
            "\u001b[0;31m---------------------------------------------------------------------------\u001b[0m",
            "\u001b[0;31mNameError\u001b[0m                                 Traceback (most recent call last)",
            "\u001b[0;32m<ipython-input-1-66784f604a93>\u001b[0m in \u001b[0;36m<module>\u001b[0;34m()\u001b[0m\n\u001b[0;32m----> 1\u001b[0;31m \u001b[0mfiles\u001b[0m\u001b[0;34m.\u001b[0m\u001b[0mdownload\u001b[0m\u001b[0;34m(\u001b[0m\u001b[0;34m\"/content/Sentiment_analysis\"\u001b[0m\u001b[0;34m)\u001b[0m\u001b[0;34m\u001b[0m\u001b[0;34m\u001b[0m\u001b[0m\n\u001b[0m",
            "\u001b[0;31mNameError\u001b[0m: name 'files' is not defined"
          ]
        }
      ]
    },
    {
      "cell_type": "code",
      "source": [
        ""
      ],
      "metadata": {
        "id": "WTiu1phQ858U"
      },
      "execution_count": null,
      "outputs": []
    }
  ]
}